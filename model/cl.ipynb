{
 "cells": [
  {
   "cell_type": "code",
   "execution_count": 2,
   "metadata": {},
   "outputs": [],
   "source": [
    "import cv2\n",
    "import numpy as np\n",
    "import mediapipe as mp\n",
    "import pickle\n",
    "import os"
   ]
  },
  {
   "cell_type": "code",
   "execution_count": 3,
   "metadata": {},
   "outputs": [],
   "source": [
    "mp_hands = mp.solutions.hands\n",
    "mp_drawing = mp.solutions.drawing_utils\n",
    "hands = mp_hands.Hands(min_detection_confidence=0.7, min_tracking_confidence=0.7)"
   ]
  },
  {
   "cell_type": "code",
   "execution_count": 4,
   "metadata": {},
   "outputs": [],
   "source": [
    "gestures_db = {}"
   ]
  },
  {
   "cell_type": "code",
   "execution_count": 7,
   "metadata": {},
   "outputs": [],
   "source": [
    "db_filename = \"gestures.pkl\"\n",
    "if os.path.exists(db_filename):\n",
    "    with open(db_filename, \"rb\") as f:\n",
    "        gestures_db = pickle.load(f)\n",
    "\n",
    "def extract_hand_landmarks(image):\n",
    "    \"\"\"Extract hand landmarks from the image.\"\"\"\n",
    "    img_rgb = cv2.cvtColor(image, cv2.COLOR_BGR2RGB)\n",
    "    results = hands.process(img_rgb)\n",
    "    \n",
    "    if results.multi_hand_landmarks:\n",
    "        for hand_landmarks in results.multi_hand_landmarks:\n",
    "            landmarks = []\n",
    "            for lm in hand_landmarks.landmark:\n",
    "                landmarks.append([lm.x, lm.y, lm.z])  # Normalize coordinates\n",
    "            return np.array(landmarks).flatten()  # Convert to 1D array\n",
    "    return None"
   ]
  },
  {
   "cell_type": "code",
   "execution_count": 8,
   "metadata": {},
   "outputs": [],
   "source": [
    "def add_new_gesture(name, landmarks):\n",
    "    \"\"\"Store new hand gesture in the database.\"\"\"\n",
    "    gestures_db[name] = landmarks\n",
    "    with open(db_filename, \"wb\") as f:\n",
    "        pickle.dump(gestures_db, f)\n",
    "    print(f\"Gesture '{name}' saved successfully!\")\n",
    "\n",
    "def recognize_gesture(landmarks):\n",
    "    \"\"\"Recognize the closest matching gesture.\"\"\"\n",
    "    if not gestures_db:\n",
    "        return \"No gestures saved\"\n",
    "    \n",
    "    min_distance = float(\"inf\")\n",
    "    recognized_gesture = None\n",
    "\n",
    "    for gesture, stored_landmarks in gestures_db.items():\n",
    "        distance = np.linalg.norm(landmarks - stored_landmarks)\n",
    "        if distance < min_distance:\n",
    "            min_distance = distance\n",
    "            recognized_gesture = gesture\n",
    "    \n",
    "    return recognized_gesture if min_distance < 0.1 else \"Unknown gesture\""
   ]
  },
  {
   "cell_type": "code",
   "execution_count": 9,
   "metadata": {},
   "outputs": [
    {
     "ename": "",
     "evalue": "",
     "output_type": "error",
     "traceback": [
      "\u001b[1;31mThe Kernel crashed while executing code in the current cell or a previous cell. \n",
      "\u001b[1;31mPlease review the code in the cell(s) to identify a possible cause of the failure. \n",
      "\u001b[1;31mClick <a href='https://aka.ms/vscodeJupyterKernelCrash'>here</a> for more info. \n",
      "\u001b[1;31mView Jupyter <a href='command:jupyter.viewOutput'>log</a> for further details."
     ]
    }
   ],
   "source": [
    "cap = cv2.VideoCapture(0)\n",
    "\n",
    "mode = \"recognize\"  # Default mode\n",
    "\n",
    "while cap.isOpened():\n",
    "    ret, frame = cap.read()\n",
    "    if not ret:\n",
    "        break\n",
    "\n",
    "    frame = cv2.flip(frame, 1)  # Flip for better usability\n",
    "    landmarks = extract_hand_landmarks(frame)\n",
    "    \n",
    "    if landmarks is not None:\n",
    "        if mode == \"recognize\":\n",
    "            gesture_name = recognize_gesture(landmarks)\n",
    "            cv2.putText(frame, f\"Gesture: {gesture_name}\", (50, 50),\n",
    "                        cv2.FONT_HERSHEY_SIMPLEX, 1, (0, 255, 0), 2)\n",
    "        elif mode == \"add\":\n",
    "            gesture_name = input(\"Enter gesture name: \")\n",
    "            add_new_gesture(gesture_name, landmarks)\n",
    "            mode = \"recognize\"  # Switch back after adding\n",
    "\n",
    "    cv2.imshow(\"Hand Gesture Recognition\", frame)\n",
    "\n",
    "    key = cv2.waitKey(1) & 0xFF\n",
    "    if key == ord(\"q\"):  # Quit\n",
    "        break\n",
    "    elif key == ord(\"n\"):  # Switch to add mode\n",
    "        mode = \"add\"\n",
    "\n",
    "cap.release()\n",
    "cv2.destroyAllWindows()"
   ]
  }
 ],
 "metadata": {
  "kernelspec": {
   "display_name": "Python 3",
   "language": "python",
   "name": "python3"
  },
  "language_info": {
   "codemirror_mode": {
    "name": "ipython",
    "version": 3
   },
   "file_extension": ".py",
   "mimetype": "text/x-python",
   "name": "python",
   "nbconvert_exporter": "python",
   "pygments_lexer": "ipython3",
   "version": "3.12.2"
  }
 },
 "nbformat": 4,
 "nbformat_minor": 2
}
