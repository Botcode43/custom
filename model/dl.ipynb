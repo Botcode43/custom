{
 "cells": [
  {
   "cell_type": "code",
   "execution_count": 1,
   "metadata": {},
   "outputs": [],
   "source": [
    "import cv2\n",
    "import numpy as np\n",
    "import mediapipe as mp\n",
    "import pickle\n",
    "import os\n"
   ]
  },
  {
   "cell_type": "code",
   "execution_count": 2,
   "metadata": {},
   "outputs": [],
   "source": [
    "mp_hands = mp.solutions.hands\n",
    "mp_drawing = mp.solutions.drawing_utils\n",
    "hands = mp_hands.Hands(min_detection_confidence=0.7, min_tracking_confidence=0.7)"
   ]
  },
  {
   "cell_type": "code",
   "execution_count": 3,
   "metadata": {},
   "outputs": [],
   "source": [
    "gestures_db = {}\n",
    "db_filename = \"gestures.pkl\"\n",
    "if os.path.exists(db_filename):\n",
    "    with open(db_filename, \"rb\") as f:\n",
    "        gestures_db = pickle.load(f)"
   ]
  },
  {
   "cell_type": "code",
   "execution_count": 4,
   "metadata": {},
   "outputs": [],
   "source": [
    "def normalize_landmarks(landmarks):\n",
    "    \"\"\"Normalize landmarks relative to the wrist (landmark 0).\"\"\"\n",
    "    wrist = landmarks[0]\n",
    "    return np.array([(lm[0] - wrist[0], lm[1] - wrist[1], lm[2] - wrist[2]) for lm in landmarks]).flatten()"
   ]
  },
  {
   "cell_type": "code",
   "execution_count": 5,
   "metadata": {},
   "outputs": [],
   "source": [
    "def extract_hand_landmarks(image):\n",
    "    \"\"\"Extracts hand landmarks and normalizes them.\"\"\"\n",
    "    img_rgb = cv2.cvtColor(image, cv2.COLOR_BGR2RGB)\n",
    "    results = hands.process(img_rgb)\n",
    "    hand_data = []\n",
    "    \n",
    "    if results.multi_hand_landmarks:\n",
    "        for hand_landmarks in results.multi_hand_landmarks:\n",
    "            landmarks = [(lm.x, lm.y, lm.z) for lm in hand_landmarks.landmark]\n",
    "            hand_data.append(normalize_landmarks(landmarks))\n",
    "    \n",
    "    return hand_data"
   ]
  },
  {
   "cell_type": "code",
   "execution_count": 6,
   "metadata": {},
   "outputs": [],
   "source": [
    "def add_new_gesture(name, landmarks):\n",
    "    \"\"\"Store new hand gesture in the database.\"\"\"\n",
    "    gestures_db[name] = landmarks\n",
    "    with open(db_filename, \"wb\") as f:\n",
    "        pickle.dump(gestures_db, f)"
   ]
  },
  {
   "cell_type": "code",
   "execution_count": 7,
   "metadata": {},
   "outputs": [],
   "source": [
    "def recognize_gesture(landmarks):\n",
    "    \"\"\"Recognize the closest matching gesture with adaptive thresholding.\"\"\"\n",
    "    if not gestures_db:\n",
    "        return \"No gestures saved\"\n",
    "    \n",
    "    min_distance = float(\"inf\")\n",
    "    recognized_gesture = None\n",
    "    \n",
    "    for gesture, stored_landmarks in gestures_db.items():\n",
    "        distance = np.linalg.norm(landmarks - stored_landmarks)\n",
    "        if distance < min_distance:\n",
    "            min_distance = distance\n",
    "            recognized_gesture = gesture\n",
    "    \n",
    "    # Adaptive threshold: 10% of the average stored distances\n",
    "    threshold = np.mean([np.linalg.norm(lm - landmarks) for lm in gestures_db.values()]) * 0.1\n",
    "    return recognized_gesture if min_distance < threshold else \"Unknown\""
   ]
  },
  {
   "cell_type": "code",
   "execution_count": 8,
   "metadata": {},
   "outputs": [],
   "source": [
    "# Webcam Setup\n",
    "cap = cv2.VideoCapture(0)\n",
    "mode = \"recognize\"\n",
    "gesture_name = \"\"\n",
    "\n",
    "while cap.isOpened():\n",
    "    ret, frame = cap.read()\n",
    "    if not ret:\n",
    "        break\n",
    "\n",
    "    frame = cv2.flip(frame, 1)\n",
    "    hand_data = extract_hand_landmarks(frame)\n",
    "\n",
    "    if hand_data:\n",
    "        for landmarks in hand_data:\n",
    "            gesture = recognize_gesture(landmarks)\n",
    "            color = (0, 255, 0) if gesture != \"Unknown\" else (0, 0, 255)\n",
    "            cv2.putText(frame, f\"Gesture: {gesture}\", (50, 50), cv2.FONT_HERSHEY_SIMPLEX, 1, color, 2)\n",
    "            \n",
    "            if mode == \"add\":\n",
    "                cv2.putText(frame, f\"Enter name: {gesture_name}\", (50, 100), cv2.FONT_HERSHEY_SIMPLEX, 1, (255, 255, 0), 2)\n",
    "    \n",
    "    cv2.imshow(\"Hand Gesture Recognition\", frame)\n",
    "    \n",
    "    key = cv2.waitKey(1) & 0xFF\n",
    "    if key == ord(\"x\"): \n",
    "        break\n",
    "    elif key == ord(\"n\"): \n",
    "        mode = \"add\"\n",
    "        gesture_name = \"\"\n",
    "    elif mode == \"add\" and key != 255:  # Capture text input\n",
    "        if key == 13:  # Enter key\n",
    "            if gesture_name and hand_data:\n",
    "                add_new_gesture(gesture_name, hand_data[0])\n",
    "                mode = \"recognize\"\n",
    "        elif key == 8:  # Backspace\n",
    "            gesture_name = gesture_name[:-1]\n",
    "        else:\n",
    "            gesture_name += chr(key)\n",
    "\n",
    "cap.release()\n",
    "cv2.destroyAllWindows()"
   ]
  },
  {
   "cell_type": "code",
   "execution_count": null,
   "metadata": {},
   "outputs": [],
   "source": []
  }
 ],
 "metadata": {
  "kernelspec": {
   "display_name": "Python 3",
   "language": "python",
   "name": "python3"
  },
  "language_info": {
   "codemirror_mode": {
    "name": "ipython",
    "version": 3
   },
   "file_extension": ".py",
   "mimetype": "text/x-python",
   "name": "python",
   "nbconvert_exporter": "python",
   "pygments_lexer": "ipython3",
   "version": "3.12.2"
  }
 },
 "nbformat": 4,
 "nbformat_minor": 2
}
